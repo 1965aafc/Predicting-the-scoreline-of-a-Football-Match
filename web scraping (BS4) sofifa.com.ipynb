{
 "cells": [
  {
   "cell_type": "code",
   "execution_count": 2,
   "metadata": {},
   "outputs": [],
   "source": [
    "import bs4 as bs\n",
    "import pandas as pd\n",
    "import re\n",
    "import requests\n",
    "\n",
    "base_url = 'https://sofifa.com/players?offset='\n",
    "columns = ['p_id','name','nationality','photo','positions','age','overall','potential','club',\n",
    "           'contract','value','wage','total_stats','hits']\n",
    "data_overall = pd.DataFrame(columns = columns)"
   ]
  },
  {
   "cell_type": "code",
   "execution_count": 5,
   "metadata": {},
   "outputs": [],
   "source": [
    "for offset in range(0,1):\n",
    "    \n",
    "    #parsing data\n",
    "    url = base_url+str(offset*60)\n",
    "    source = requests.get(url)\n",
    "    plain_text = source.text\n",
    "    soup = bs.BeautifulSoup(plain_text,'html.parser')\n",
    "    \n",
    "    #finding data\n",
    "    table_body = soup.find('tbody',class_='list')\n",
    "    \n",
    "    for row in table_body.find_all('tr'):\n",
    "        td = row.find_all('td')\n",
    "        p_id = td[0].find('img').get('id')\n",
    "        photo = td[0].find('img').get('data-src')\n",
    "        name = td[1].find('a').get('href').split('/')[3].strip()\n",
    "        nationality = td[1].find_all('a')[0].find('img').get('title')\n",
    "        positions = []\n",
    "        for a in td[1].find_all('a',rel='nofollow'):\n",
    "            positions.append(a.text.strip())\n",
    "        age = td[2].text.strip()\n",
    "        overall = td[3].text.strip()\n",
    "        potential = td[4].text.strip()\n",
    "        club = td[5].find('a').text.strip()\n",
    "        contract = td[5].find('div',class_='sub').text[1:].strip()\n",
    "        value = td[6].text[1:].strip()\n",
    "        wage = td[7].text[1:].strip()\n",
    "        total_stats = td[8].text.strip()\n",
    "        hits = td[9].text[1:].strip()\n",
    "        \n",
    "        #data entry\n",
    "        individual_data = pd.DataFrame([[p_id,name,nationality,photo,\n",
    "                                         positions,age,overall,potential,club,\n",
    "                                         contract,value,wage,total_stats,hits]],\n",
    "                                      columns = columns)\n",
    "        data_overall = data_overall.append(individual_data,ignore_index = True)\n",
    "        #positions.clear()\n",
    "        \n",
    "        \n",
    "    \n",
    "    \n",
    "    \n",
    "    \n"
   ]
  },
  {
   "cell_type": "code",
   "execution_count": 6,
   "metadata": {},
   "outputs": [
    {
     "data": {
      "text/plain": [
       "['CB']"
      ]
     },
     "execution_count": 6,
     "metadata": {},
     "output_type": "execute_result"
    }
   ],
   "source": [
    "#url = base_url+str(offset*0)\n",
    "source = requests.get(base_url)\n",
    "plain_text = source.text\n",
    "soup = bs.BeautifulSoup(plain_text,'html.parser')\n",
    "table_body = soup.find('tbody',class_='list')\n",
    "td = table_body.find('tr').find_all('td')\n",
    "type(td)\n",
    "pos = []\n",
    "\n",
    "#pos.append(td[1].find_all('a',class_='nofollow').text)\n",
    "#for a in td[1].find_all('a',rel='nofollow'):\n",
    "    #print(a.text)\n",
    "    \n",
    "positions"
   ]
  },
  {
   "cell_type": "code",
   "execution_count": 7,
   "metadata": {},
   "outputs": [],
   "source": [
    "data_overall = data_overall.drop_duplicates(subset=['p_id'])"
   ]
  },
  {
   "cell_type": "code",
   "execution_count": 8,
   "metadata": {},
   "outputs": [
    {
     "data": {
      "text/plain": [
       "pandas.core.frame.DataFrame"
      ]
     },
     "execution_count": 8,
     "metadata": {},
     "output_type": "execute_result"
    }
   ],
   "source": [
    "type(data_overall)"
   ]
  },
  {
   "cell_type": "code",
   "execution_count": 9,
   "metadata": {},
   "outputs": [
    {
     "data": {
      "text/html": [
       "<div>\n",
       "<style scoped>\n",
       "    .dataframe tbody tr th:only-of-type {\n",
       "        vertical-align: middle;\n",
       "    }\n",
       "\n",
       "    .dataframe tbody tr th {\n",
       "        vertical-align: top;\n",
       "    }\n",
       "\n",
       "    .dataframe thead th {\n",
       "        text-align: right;\n",
       "    }\n",
       "</style>\n",
       "<table border=\"1\" class=\"dataframe\">\n",
       "  <thead>\n",
       "    <tr style=\"text-align: right;\">\n",
       "      <th></th>\n",
       "      <th>p_id</th>\n",
       "      <th>name</th>\n",
       "      <th>nationality</th>\n",
       "      <th>photo</th>\n",
       "      <th>positions</th>\n",
       "      <th>age</th>\n",
       "      <th>overall</th>\n",
       "      <th>potential</th>\n",
       "      <th>club</th>\n",
       "      <th>contract</th>\n",
       "      <th>value</th>\n",
       "      <th>wage</th>\n",
       "      <th>total_stats</th>\n",
       "      <th>hits</th>\n",
       "    </tr>\n",
       "  </thead>\n",
       "  <tbody>\n",
       "    <tr>\n",
       "      <th>0</th>\n",
       "      <td>251804</td>\n",
       "      <td>sergino-dest</td>\n",
       "      <td>United States</td>\n",
       "      <td>https://cdn.sofifa.com/players/251/804/20_60.png</td>\n",
       "      <td>[RB]</td>\n",
       "      <td>18</td>\n",
       "      <td>72</td>\n",
       "      <td>82</td>\n",
       "      <td>Ajax</td>\n",
       "      <td>2019 ~ 2022</td>\n",
       "      <td>4.1M</td>\n",
       "      <td>4K</td>\n",
       "      <td>1927</td>\n",
       "      <td>8.5K</td>\n",
       "    </tr>\n",
       "    <tr>\n",
       "      <th>1</th>\n",
       "      <td>237086</td>\n",
       "      <td>min-jae-kim</td>\n",
       "      <td>Korea Republic</td>\n",
       "      <td>https://cdn.sofifa.com/players/237/086/20_60.png</td>\n",
       "      <td>[CB]</td>\n",
       "      <td>22</td>\n",
       "      <td>74</td>\n",
       "      <td>81</td>\n",
       "      <td>Beijing Sinobo Guoan FC</td>\n",
       "      <td>2019 ~ 2021</td>\n",
       "      <td>7M</td>\n",
       "      <td>14K</td>\n",
       "      <td>1661</td>\n",
       "      <td>6.2K</td>\n",
       "    </tr>\n",
       "    <tr>\n",
       "      <th>2</th>\n",
       "      <td>232363</td>\n",
       "      <td>milan-skriniar</td>\n",
       "      <td>Slovakia</td>\n",
       "      <td>https://cdn.sofifa.com/players/232/363/20_60.png</td>\n",
       "      <td>[CB]</td>\n",
       "      <td>24</td>\n",
       "      <td>86</td>\n",
       "      <td>90</td>\n",
       "      <td>Inter</td>\n",
       "      <td>2017 ~ 2023</td>\n",
       "      <td>52M</td>\n",
       "      <td>89K</td>\n",
       "      <td>1817</td>\n",
       "      <td>4.7K</td>\n",
       "    </tr>\n",
       "    <tr>\n",
       "      <th>3</th>\n",
       "      <td>227928</td>\n",
       "      <td>nelson-cabral-semedo</td>\n",
       "      <td>Portugal</td>\n",
       "      <td>https://cdn.sofifa.com/players/227/928/20_60.png</td>\n",
       "      <td>[RB]</td>\n",
       "      <td>25</td>\n",
       "      <td>82</td>\n",
       "      <td>85</td>\n",
       "      <td>FC Barcelona</td>\n",
       "      <td>2017 ~ 2022</td>\n",
       "      <td>24.5M</td>\n",
       "      <td>145K</td>\n",
       "      <td>2060</td>\n",
       "      <td>3.9K</td>\n",
       "    </tr>\n",
       "    <tr>\n",
       "      <th>4</th>\n",
       "      <td>212602</td>\n",
       "      <td>diego-javier-llorente-rios</td>\n",
       "      <td>Spain</td>\n",
       "      <td>https://cdn.sofifa.com/players/212/602/20_60.png</td>\n",
       "      <td>[CB]</td>\n",
       "      <td>25</td>\n",
       "      <td>77</td>\n",
       "      <td>82</td>\n",
       "      <td>Real Sociedad</td>\n",
       "      <td>2017 ~ 2022</td>\n",
       "      <td>10.5M</td>\n",
       "      <td>25K</td>\n",
       "      <td>1785</td>\n",
       "      <td>3.6K</td>\n",
       "    </tr>\n",
       "  </tbody>\n",
       "</table>\n",
       "</div>"
      ],
      "text/plain": [
       "     p_id                        name     nationality  \\\n",
       "0  251804                sergino-dest   United States   \n",
       "1  237086                 min-jae-kim  Korea Republic   \n",
       "2  232363              milan-skriniar        Slovakia   \n",
       "3  227928        nelson-cabral-semedo        Portugal   \n",
       "4  212602  diego-javier-llorente-rios           Spain   \n",
       "\n",
       "                                              photo positions age overall  \\\n",
       "0  https://cdn.sofifa.com/players/251/804/20_60.png      [RB]  18      72   \n",
       "1  https://cdn.sofifa.com/players/237/086/20_60.png      [CB]  22      74   \n",
       "2  https://cdn.sofifa.com/players/232/363/20_60.png      [CB]  24      86   \n",
       "3  https://cdn.sofifa.com/players/227/928/20_60.png      [RB]  25      82   \n",
       "4  https://cdn.sofifa.com/players/212/602/20_60.png      [CB]  25      77   \n",
       "\n",
       "  potential                     club     contract  value  wage total_stats  \\\n",
       "0        82                     Ajax  2019 ~ 2022   4.1M    4K        1927   \n",
       "1        81  Beijing Sinobo Guoan FC  2019 ~ 2021     7M   14K        1661   \n",
       "2        90                    Inter  2017 ~ 2023    52M   89K        1817   \n",
       "3        85             FC Barcelona  2017 ~ 2022  24.5M  145K        2060   \n",
       "4        82            Real Sociedad  2017 ~ 2022  10.5M   25K        1785   \n",
       "\n",
       "   hits  \n",
       "0  8.5K  \n",
       "1  6.2K  \n",
       "2  4.7K  \n",
       "3  3.9K  \n",
       "4  3.6K  "
      ]
     },
     "execution_count": 9,
     "metadata": {},
     "output_type": "execute_result"
    }
   ],
   "source": [
    "data_overall.head()"
   ]
  },
  {
   "cell_type": "code",
   "execution_count": 10,
   "metadata": {},
   "outputs": [
    {
     "name": "stdout",
     "output_type": "stream",
     "text": [
      "<class 'pandas.core.frame.DataFrame'>\n",
      "Int64Index: 60 entries, 0 to 59\n",
      "Data columns (total 14 columns):\n",
      " #   Column       Non-Null Count  Dtype \n",
      "---  ------       --------------  ----- \n",
      " 0   p_id         60 non-null     object\n",
      " 1   name         60 non-null     object\n",
      " 2   nationality  60 non-null     object\n",
      " 3   photo        60 non-null     object\n",
      " 4   positions    60 non-null     object\n",
      " 5   age          60 non-null     object\n",
      " 6   overall      60 non-null     object\n",
      " 7   potential    60 non-null     object\n",
      " 8   club         60 non-null     object\n",
      " 9   contract     60 non-null     object\n",
      " 10  value        60 non-null     object\n",
      " 11  wage         60 non-null     object\n",
      " 12  total_stats  60 non-null     object\n",
      " 13  hits         60 non-null     object\n",
      "dtypes: object(14)\n",
      "memory usage: 7.0+ KB\n"
     ]
    }
   ],
   "source": [
    "data_overall.info()"
   ]
  },
  {
   "cell_type": "code",
   "execution_count": 16,
   "metadata": {},
   "outputs": [
    {
     "data": {
      "text/plain": [
       "pandas.core.series.Series"
      ]
     },
     "execution_count": 16,
     "metadata": {},
     "output_type": "execute_result"
    }
   ],
   "source": [
    "type(data_overall.p_id)"
   ]
  },
  {
   "cell_type": "code",
   "execution_count": null,
   "metadata": {},
   "outputs": [],
   "source": [
    "detailed_columns = ['Preferred Foot', 'International Reputation', 'Weak Foot', 'Skill Moves', 'Work Rate', 'Body Type', 'Real Face', 'Position', 'Jersey Number', 'Joined', 'Loaned From', 'Contract Valid Until', 'Height', 'Weight', 'LS', 'ST', 'RS', 'LW', 'LF', 'CF', 'RF', 'RW', 'LAM', 'CAM', 'RAM', 'LM', 'LCM', 'CM', 'RCM', 'RM', 'LWB', 'LDM', 'CDM', 'RDM', 'RWB', 'LB', 'LCB', 'CB', 'RCB', 'RB', 'Crossing', 'Finishing', 'HeadingAccuracy', 'ShortPassing', 'Volleys', 'Dribbling', 'Curve', 'FKAccuracy', 'LongPassing', 'BallControl', 'Acceleration', 'SprintSpeed', 'Agility', 'Reactions', 'Balance', 'ShotPower', 'Jumping', 'Stamina', 'Strength', 'LongShots', 'Aggression', 'Interceptions', 'Positioning', 'Vision', 'Penalties', 'Composure', 'Marking', 'StandingTackle', 'SlidingTackle', 'GKDiving', 'GKHandling', 'GKKicking', 'GKPositioning', 'GKReflexes', 'ID']\n",
    "detailed_data = pd.DataFrame(index= range(0,data_overall.count()[0]),columns = detailed_columns)\n",
    "detailed_data.id = data_overall.p_id.values\n",
    "\n",
    "player_data_url = 'https://sofifa.com/player/'\n",
    "for ID in data_overall.p_id:\n",
    "    url = player_data_url + str(ID)\n",
    "    sauce = requests.get(url)\n",
    "    plain_text = sauce.text\n",
    "    soup = bs.BeautifulSoup(plain_text,html.parser)"
   ]
  },
  {
   "cell_type": "code",
   "execution_count": 22,
   "metadata": {},
   "outputs": [
    {
     "data": {
      "text/plain": [
       "60"
      ]
     },
     "execution_count": 22,
     "metadata": {},
     "output_type": "execute_result"
    }
   ],
   "source": []
  },
  {
   "cell_type": "markdown",
   "metadata": {},
   "source": [
    "## "
   ]
  }
 ],
 "metadata": {
  "kernelspec": {
   "display_name": "Python 3",
   "language": "python",
   "name": "python3"
  },
  "language_info": {
   "codemirror_mode": {
    "name": "ipython",
    "version": 3
   },
   "file_extension": ".py",
   "mimetype": "text/x-python",
   "name": "python",
   "nbconvert_exporter": "python",
   "pygments_lexer": "ipython3",
   "version": "3.8.3"
  }
 },
 "nbformat": 4,
 "nbformat_minor": 2
}

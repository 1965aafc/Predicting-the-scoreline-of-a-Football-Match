{
 "cells": [
  {
   "cell_type": "code",
   "execution_count": 7,
   "metadata": {},
   "outputs": [
    {
     "name": "stdout",
     "output_type": "stream",
     "text": [
      "<class 'pandas.core.frame.DataFrame'>\n",
      "RangeIndex: 41640 entries, 0 to 41639\n",
      "Data columns (total 9 columns):\n",
      " #   Column      Non-Null Count  Dtype \n",
      "---  ------      --------------  ----- \n",
      " 0   date        41640 non-null  object\n",
      " 1   home_team   41640 non-null  object\n",
      " 2   away_team   41640 non-null  object\n",
      " 3   home_score  41640 non-null  int64 \n",
      " 4   away_score  41640 non-null  int64 \n",
      " 5   tournament  41640 non-null  object\n",
      " 6   city        41640 non-null  object\n",
      " 7   country     41640 non-null  object\n",
      " 8   neutral     41640 non-null  bool  \n",
      "dtypes: bool(1), int64(2), object(6)\n",
      "memory usage: 2.6+ MB\n"
     ]
    }
   ],
   "source": [
    "import pandas as pd\n",
    "data = pd.read_csv('C:/Users/adbir/Data Science/Football score prediction/results.csv')\n",
    "data.info()"
   ]
  },
  {
   "cell_type": "code",
   "execution_count": 2,
   "metadata": {},
   "outputs": [
    {
     "data": {
      "text/html": [
       "<div>\n",
       "<style scoped>\n",
       "    .dataframe tbody tr th:only-of-type {\n",
       "        vertical-align: middle;\n",
       "    }\n",
       "\n",
       "    .dataframe tbody tr th {\n",
       "        vertical-align: top;\n",
       "    }\n",
       "\n",
       "    .dataframe thead th {\n",
       "        text-align: right;\n",
       "    }\n",
       "</style>\n",
       "<table border=\"1\" class=\"dataframe\">\n",
       "  <thead>\n",
       "    <tr style=\"text-align: right;\">\n",
       "      <th></th>\n",
       "      <th>date</th>\n",
       "      <th>home_team</th>\n",
       "      <th>away_team</th>\n",
       "      <th>home_score</th>\n",
       "      <th>away_score</th>\n",
       "      <th>tournament</th>\n",
       "      <th>city</th>\n",
       "      <th>country</th>\n",
       "      <th>neutral</th>\n",
       "    </tr>\n",
       "  </thead>\n",
       "  <tbody>\n",
       "    <tr>\n",
       "      <th>0</th>\n",
       "      <td>1872-11-30</td>\n",
       "      <td>Scotland</td>\n",
       "      <td>England</td>\n",
       "      <td>0</td>\n",
       "      <td>0</td>\n",
       "      <td>Friendly</td>\n",
       "      <td>Glasgow</td>\n",
       "      <td>Scotland</td>\n",
       "      <td>False</td>\n",
       "    </tr>\n",
       "    <tr>\n",
       "      <th>1</th>\n",
       "      <td>1873-03-08</td>\n",
       "      <td>England</td>\n",
       "      <td>Scotland</td>\n",
       "      <td>4</td>\n",
       "      <td>2</td>\n",
       "      <td>Friendly</td>\n",
       "      <td>London</td>\n",
       "      <td>England</td>\n",
       "      <td>False</td>\n",
       "    </tr>\n",
       "    <tr>\n",
       "      <th>2</th>\n",
       "      <td>1874-03-07</td>\n",
       "      <td>Scotland</td>\n",
       "      <td>England</td>\n",
       "      <td>2</td>\n",
       "      <td>1</td>\n",
       "      <td>Friendly</td>\n",
       "      <td>Glasgow</td>\n",
       "      <td>Scotland</td>\n",
       "      <td>False</td>\n",
       "    </tr>\n",
       "    <tr>\n",
       "      <th>3</th>\n",
       "      <td>1875-03-06</td>\n",
       "      <td>England</td>\n",
       "      <td>Scotland</td>\n",
       "      <td>2</td>\n",
       "      <td>2</td>\n",
       "      <td>Friendly</td>\n",
       "      <td>London</td>\n",
       "      <td>England</td>\n",
       "      <td>False</td>\n",
       "    </tr>\n",
       "    <tr>\n",
       "      <th>4</th>\n",
       "      <td>1876-03-04</td>\n",
       "      <td>Scotland</td>\n",
       "      <td>England</td>\n",
       "      <td>3</td>\n",
       "      <td>0</td>\n",
       "      <td>Friendly</td>\n",
       "      <td>Glasgow</td>\n",
       "      <td>Scotland</td>\n",
       "      <td>False</td>\n",
       "    </tr>\n",
       "  </tbody>\n",
       "</table>\n",
       "</div>"
      ],
      "text/plain": [
       "         date home_team away_team  home_score  away_score tournament     city  \\\n",
       "0  1872-11-30  Scotland   England           0           0   Friendly  Glasgow   \n",
       "1  1873-03-08   England  Scotland           4           2   Friendly   London   \n",
       "2  1874-03-07  Scotland   England           2           1   Friendly  Glasgow   \n",
       "3  1875-03-06   England  Scotland           2           2   Friendly   London   \n",
       "4  1876-03-04  Scotland   England           3           0   Friendly  Glasgow   \n",
       "\n",
       "    country  neutral  \n",
       "0  Scotland    False  \n",
       "1   England    False  \n",
       "2  Scotland    False  \n",
       "3   England    False  \n",
       "4  Scotland    False  "
      ]
     },
     "execution_count": 2,
     "metadata": {},
     "output_type": "execute_result"
    }
   ],
   "source": [
    "data.head()"
   ]
  },
  {
   "cell_type": "code",
   "execution_count": 3,
   "metadata": {},
   "outputs": [
    {
     "data": {
      "text/html": [
       "<div>\n",
       "<style scoped>\n",
       "    .dataframe tbody tr th:only-of-type {\n",
       "        vertical-align: middle;\n",
       "    }\n",
       "\n",
       "    .dataframe tbody tr th {\n",
       "        vertical-align: top;\n",
       "    }\n",
       "\n",
       "    .dataframe thead th {\n",
       "        text-align: right;\n",
       "    }\n",
       "</style>\n",
       "<table border=\"1\" class=\"dataframe\">\n",
       "  <thead>\n",
       "    <tr style=\"text-align: right;\">\n",
       "      <th></th>\n",
       "      <th>home_score</th>\n",
       "      <th>away_score</th>\n",
       "    </tr>\n",
       "  </thead>\n",
       "  <tbody>\n",
       "    <tr>\n",
       "      <th>count</th>\n",
       "      <td>41640.000000</td>\n",
       "      <td>41640.000000</td>\n",
       "    </tr>\n",
       "    <tr>\n",
       "      <th>mean</th>\n",
       "      <td>1.744813</td>\n",
       "      <td>1.187680</td>\n",
       "    </tr>\n",
       "    <tr>\n",
       "      <th>std</th>\n",
       "      <td>1.753365</td>\n",
       "      <td>1.404828</td>\n",
       "    </tr>\n",
       "    <tr>\n",
       "      <th>min</th>\n",
       "      <td>0.000000</td>\n",
       "      <td>0.000000</td>\n",
       "    </tr>\n",
       "    <tr>\n",
       "      <th>25%</th>\n",
       "      <td>1.000000</td>\n",
       "      <td>0.000000</td>\n",
       "    </tr>\n",
       "    <tr>\n",
       "      <th>50%</th>\n",
       "      <td>1.000000</td>\n",
       "      <td>1.000000</td>\n",
       "    </tr>\n",
       "    <tr>\n",
       "      <th>75%</th>\n",
       "      <td>2.000000</td>\n",
       "      <td>2.000000</td>\n",
       "    </tr>\n",
       "    <tr>\n",
       "      <th>max</th>\n",
       "      <td>31.000000</td>\n",
       "      <td>21.000000</td>\n",
       "    </tr>\n",
       "  </tbody>\n",
       "</table>\n",
       "</div>"
      ],
      "text/plain": [
       "         home_score    away_score\n",
       "count  41640.000000  41640.000000\n",
       "mean       1.744813      1.187680\n",
       "std        1.753365      1.404828\n",
       "min        0.000000      0.000000\n",
       "25%        1.000000      0.000000\n",
       "50%        1.000000      1.000000\n",
       "75%        2.000000      2.000000\n",
       "max       31.000000     21.000000"
      ]
     },
     "execution_count": 3,
     "metadata": {},
     "output_type": "execute_result"
    }
   ],
   "source": [
    "data.describe()"
   ]
  },
  {
   "cell_type": "code",
   "execution_count": 6,
   "metadata": {},
   "outputs": [
    {
     "data": {
      "text/html": [
       "<div>\n",
       "<style scoped>\n",
       "    .dataframe tbody tr th:only-of-type {\n",
       "        vertical-align: middle;\n",
       "    }\n",
       "\n",
       "    .dataframe tbody tr th {\n",
       "        vertical-align: top;\n",
       "    }\n",
       "\n",
       "    .dataframe thead th {\n",
       "        text-align: right;\n",
       "    }\n",
       "</style>\n",
       "<table border=\"1\" class=\"dataframe\">\n",
       "  <thead>\n",
       "    <tr style=\"text-align: right;\">\n",
       "      <th></th>\n",
       "      <th>date</th>\n",
       "      <th>home_team</th>\n",
       "      <th>away_team</th>\n",
       "      <th>home_score</th>\n",
       "      <th>away_score</th>\n",
       "      <th>tournament</th>\n",
       "      <th>city</th>\n",
       "      <th>country</th>\n",
       "      <th>neutral</th>\n",
       "      <th>total_goals</th>\n",
       "    </tr>\n",
       "  </thead>\n",
       "  <tbody>\n",
       "    <tr>\n",
       "      <th>23796</th>\n",
       "      <td>2001-04-11</td>\n",
       "      <td>Australia</td>\n",
       "      <td>American Samoa</td>\n",
       "      <td>31</td>\n",
       "      <td>0</td>\n",
       "      <td>FIFA World Cup qualification</td>\n",
       "      <td>Coffs Harbour</td>\n",
       "      <td>Australia</td>\n",
       "      <td>False</td>\n",
       "      <td>31</td>\n",
       "    </tr>\n",
       "  </tbody>\n",
       "</table>\n",
       "</div>"
      ],
      "text/plain": [
       "             date  home_team       away_team  home_score  away_score  \\\n",
       "23796  2001-04-11  Australia  American Samoa          31           0   \n",
       "\n",
       "                         tournament           city    country  neutral  \\\n",
       "23796  FIFA World Cup qualification  Coffs Harbour  Australia    False   \n",
       "\n",
       "       total_goals  \n",
       "23796           31  "
      ]
     },
     "execution_count": 6,
     "metadata": {},
     "output_type": "execute_result"
    }
   ],
   "source": [
    "import numpy as np\n",
    "data.loc[[np.argmax(data.total_goals)]]"
   ]
  },
  {
   "cell_type": "code",
   "execution_count": 2,
   "metadata": {},
   "outputs": [
    {
     "data": {
      "text/plain": [
       "([<matplotlib.axis.XTick at 0x232fb4f7430>,\n",
       "  <matplotlib.axis.XTick at 0x232fb4f7400>,\n",
       "  <matplotlib.axis.XTick at 0x232fb4f3070>,\n",
       "  <matplotlib.axis.XTick at 0x232fbc173d0>,\n",
       "  <matplotlib.axis.XTick at 0x232fbc178e0>,\n",
       "  <matplotlib.axis.XTick at 0x232fbc17df0>,\n",
       "  <matplotlib.axis.XTick at 0x232fbc28340>,\n",
       "  <matplotlib.axis.XTick at 0x232fbc17ac0>,\n",
       "  <matplotlib.axis.XTick at 0x232fbc28700>,\n",
       "  <matplotlib.axis.XTick at 0x232fbc28bb0>,\n",
       "  <matplotlib.axis.XTick at 0x232fbc2d100>,\n",
       "  <matplotlib.axis.XTick at 0x232fbc2d610>,\n",
       "  <matplotlib.axis.XTick at 0x232fbc2db20>,\n",
       "  <matplotlib.axis.XTick at 0x232fbc33070>,\n",
       "  <matplotlib.axis.XTick at 0x232fbc33580>,\n",
       "  <matplotlib.axis.XTick at 0x232fbc33a90>,\n",
       "  <matplotlib.axis.XTick at 0x232fbc33fa0>,\n",
       "  <matplotlib.axis.XTick at 0x232fbc331f0>],\n",
       " <a list of 18 Text major ticklabel objects>)"
      ]
     },
     "execution_count": 2,
     "metadata": {},
     "output_type": "execute_result"
    },
    {
     "data": {
      "image/png": "[encoded data removed]",
      "text/plain": [
       "<Figure size 720x360 with 1 Axes>"
      ]
     },
     "metadata": {
      "needs_background": "light"
     },
     "output_type": "display_data"
    }
   ],
   "source": [
    "# most_probable home score\n",
    "import matplotlib.pyplot as plt\n",
    "%matplotlib inline\n",
    "fig = plt.figure(figsize = (10,5))\n",
    "ax = fig.gca()\n",
    "plt.hist(data.home_score,bins=30,edgecolor='white')\n",
    "plt.xticks(range(18))"
   ]
  },
  {
   "cell_type": "code",
   "execution_count": null,
   "metadata": {},
   "outputs": [],
   "source": [
    "#data.drop('Total_goals',axis=1,inplace=True)"
   ]
  },
  {
   "cell_type": "code",
   "execution_count": 8,
   "metadata": {},
   "outputs": [
    {
     "data": {
      "text/plain": [
       "([<matplotlib.axis.XTick at 0x16ed597ed60>,\n",
       "  <matplotlib.axis.XTick at 0x16ed597ed30>,\n",
       "  <matplotlib.axis.XTick at 0x16ed52cdc10>,\n",
       "  <matplotlib.axis.XTick at 0x16ed5a0bd30>,\n",
       "  <matplotlib.axis.XTick at 0x16ed5a1f280>,\n",
       "  <matplotlib.axis.XTick at 0x16ed59b7280>,\n",
       "  <matplotlib.axis.XTick at 0x16ed5a1f940>,\n",
       "  <matplotlib.axis.XTick at 0x16ed5a1fe50>,\n",
       "  <matplotlib.axis.XTick at 0x16ed5a253a0>,\n",
       "  <matplotlib.axis.XTick at 0x16ed5a258b0>,\n",
       "  <matplotlib.axis.XTick at 0x16ed5a25dc0>,\n",
       "  <matplotlib.axis.XTick at 0x16ed5a2a340>,\n",
       "  <matplotlib.axis.XTick at 0x16ed5a2a850>,\n",
       "  <matplotlib.axis.XTick at 0x16ed5a2ad60>,\n",
       "  <matplotlib.axis.XTick at 0x16ed5a2e2b0>,\n",
       "  <matplotlib.axis.XTick at 0x16ed5a2a4c0>,\n",
       "  <matplotlib.axis.XTick at 0x16ed5a25520>,\n",
       "  <matplotlib.axis.XTick at 0x16ed5a1f640>,\n",
       "  <matplotlib.axis.XTick at 0x16ed5a2e7c0>,\n",
       "  <matplotlib.axis.XTick at 0x16ed5a2ecd0>],\n",
       " <a list of 20 Text major ticklabel objects>)"
      ]
     },
     "execution_count": 8,
     "metadata": {},
     "output_type": "execute_result"
    },
    {
     "data": {
      "image/png": "[encoded data removed]",
      "text/plain": [
       "<Figure size 720x360 with 1 Axes>"
      ]
     },
     "metadata": {
      "needs_background": "light"
     },
     "output_type": "display_data"
    }
   ],
   "source": [
    "#most probable total goals in a match\n",
    "import matplotlib.pyplot as plt\n",
    "data['total_goals']=data['home_score']+data['away_score']\n",
    "fig = plt.figure(figsize = (10,5))\n",
    "ax = fig.gca()\n",
    "plt.hist(data.total_goals,bins=30,edgecolor='black')\n",
    "plt.xticks(range(20))"
   ]
  },
  {
   "cell_type": "code",
   "execution_count": 9,
   "metadata": {},
   "outputs": [
    {
     "data": {
      "text/plain": [
       "1872"
      ]
     },
     "execution_count": 9,
     "metadata": {},
     "output_type": "execute_result"
    }
   ],
   "source": [
    "data['date']=data['date'].apply(lambda x : int(str.split(x,'-')[0]))\n",
    "data['date'].value_counts()\n",
    "data['date'].min()"
   ]
  },
  {
   "cell_type": "code",
   "execution_count": 44,
   "metadata": {},
   "outputs": [
    {
     "data": {
      "text/plain": [
       "([<matplotlib.axis.XTick at 0x2132787f8b0>,\n",
       "  <matplotlib.axis.XTick at 0x2132787f880>,\n",
       "  <matplotlib.axis.XTick at 0x213276fb2e0>,\n",
       "  <matplotlib.axis.XTick at 0x2132889aaf0>,\n",
       "  <matplotlib.axis.XTick at 0x213288a7040>,\n",
       "  <matplotlib.axis.XTick at 0x213288a7550>,\n",
       "  <matplotlib.axis.XTick at 0x213288a7a60>,\n",
       "  <matplotlib.axis.XTick at 0x213288a7f70>,\n",
       "  <matplotlib.axis.XTick at 0x213288ab4c0>,\n",
       "  <matplotlib.axis.XTick at 0x213288ab9d0>,\n",
       "  <matplotlib.axis.XTick at 0x213288abee0>,\n",
       "  <matplotlib.axis.XTick at 0x213288ab550>,\n",
       "  <matplotlib.axis.XTick at 0x213288a75e0>,\n",
       "  <matplotlib.axis.XTick at 0x21328871b80>,\n",
       "  <matplotlib.axis.XTick at 0x213288b15e0>,\n",
       "  <matplotlib.axis.XTick at 0x213288b1af0>,\n",
       "  <matplotlib.axis.XTick at 0x213288b8040>,\n",
       "  <matplotlib.axis.XTick at 0x213288b8550>,\n",
       "  <matplotlib.axis.XTick at 0x213288b8a60>,\n",
       "  <matplotlib.axis.XTick at 0x213288b8f70>],\n",
       " <a list of 20 Text major ticklabel objects>)"
      ]
     },
     "execution_count": 44,
     "metadata": {},
     "output_type": "execute_result"
    },
    {
     "data": {
      "image/png": "[encoded data removed]",
      "text/plain": [
       "<Figure size 720x360 with 1 Axes>"
      ]
     },
     "metadata": {
      "needs_background": "light"
     },
     "output_type": "display_data"
    }
   ],
   "source": [
    "# most probable total goals in 2019\n",
    "fig = plt.figure(figsize = (10,5))\n",
    "ax = fig.gca()\n",
    "plt.hist(data[data['date']==2019].total_goals,bins=15,\n",
    "         edgecolor='white')\n",
    "plt.xticks(range(20))\n",
    "#ax.xaxis.set_major_formatter(plt.NullFormatter())\n",
    "#ax.axes.get_xaxis().set_visible(False)\n",
    "#ax.axes.get_yaxis().set_visible(False)"
   ]
  },
  {
   "cell_type": "code",
   "execution_count": 90,
   "metadata": {},
   "outputs": [
    {
     "name": "stdout",
     "output_type": "stream",
     "text": [
      "2.932492795389049\n"
     ]
    }
   ],
   "source": [
    "data.iloc[[data.total_goals.argmax()]]\n",
    "print(data.total_goals.mean())"
   ]
  },
  {
   "cell_type": "code",
   "execution_count": 10,
   "metadata": {},
   "outputs": [],
   "source": [
    "# Poisson probability is: P(x; μ) = (e-μ) (μx) / x!\n",
    "#lam =2.93\n",
    "from scipy.special import factorial\n",
    "import numpy as np\n",
    "#k is no. of event we want to find the probability of\n",
    "\n",
    "def poisson(k,exp_events):\n",
    "    #minutes=90\n",
    "    lam =(exp_events)\n",
    "    p_k= np.exp(-lam)*np.power(lam,k)/factorial(k)\n",
    "    #print(f'The probability of {k} goals in {minutes} minutes is {100*p_k:.2f})%.')\n",
    "    return p_k"
   ]
  },
  {
   "cell_type": "code",
   "execution_count": 7,
   "metadata": {},
   "outputs": [
    {
     "name": "stdout",
     "output_type": "stream",
     "text": [
      "The probability of 0 goals in 90 minutes is 5.67)%.\n",
      "The probability of 1 goals in 90 minutes is 16.27)%.\n",
      "The probability of 2 goals in 90 minutes is 23.35)%.\n",
      "The probability of 3 goals in 90 minutes is 22.34)%.\n",
      "The probability of 4 goals in 90 minutes is 16.03)%.\n",
      "The probability of 5 goals in 90 minutes is 9.20)%.\n",
      "The probability of 6 goals in 90 minutes is 4.40)%.\n",
      "The probability of 7 goals in 90 minutes is 1.80)%.\n",
      "The probability of 8 goals in 90 minutes is 0.65)%.\n",
      "The probability of 9 goals in 90 minutes is 0.21)%.\n"
     ]
    }
   ],
   "source": [
    "#proability of goals acc to poisson distribution\n",
    "k=[]\n",
    "p_k=[]\n",
    "for i in range(10):\n",
    "    p_k.append(poisson(i,2.93,90))\n",
    "    k.append(i)"
   ]
  },
  {
   "cell_type": "code",
   "execution_count": 8,
   "metadata": {},
   "outputs": [
    {
     "data": {
      "image/png": "[encoded data removed]",
      "text/plain": [
       "<Figure size 432x288 with 1 Axes>"
      ]
     },
     "metadata": {
      "needs_background": "light"
     },
     "output_type": "display_data"
    }
   ],
   "source": [
    "plt.plot(k,p_k,'-o')\n",
    "plt.xticks(range(10))\n",
    "plt.grid(True)"
   ]
  },
  {
   "cell_type": "code",
   "execution_count": 121,
   "metadata": {},
   "outputs": [
    {
     "name": "stdout",
     "output_type": "stream",
     "text": [
      "                  0\n",
      "count  10000.000000\n",
      "mean       2.879600\n",
      "std        1.704932\n",
      "min        0.000000\n",
      "25%        2.000000\n",
      "50%        3.000000\n",
      "75%        4.000000\n",
      "max       11.000000\n"
     ]
    },
    {
     "data": {
      "image/png": "[encoded data removed]",
      "text/plain": [
       "<Figure size 432x288 with 1 Axes>"
      ]
     },
     "metadata": {
      "needs_background": "light"
     },
     "output_type": "display_data"
    }
   ],
   "source": [
    "# In 10000 matches simulation goals scored distribution\n",
    "N=10000\n",
    "lam=2.87\n",
    "counts=np.random.poisson(lam,size=N)\n",
    "df=pd.DataFrame(counts)\n",
    "print (df.describe())\n",
    "#print(df[0].value_counts())\n",
    "df.hist(bins=11,edgecolor='white')\n",
    "plt.xticks(range(12))\n",
    "plt.grid(False)"
   ]
  },
  {
   "cell_type": "code",
   "execution_count": 19,
   "metadata": {},
   "outputs": [],
   "source": [
    "#p_n = poisson(np.arange(100),5)"
   ]
  },
  {
   "cell_type": "code",
   "execution_count": 34,
   "metadata": {},
   "outputs": [],
   "source": [
    "def p_lessorequal(n_query,exp_events,quiet=True):\n",
    "    p_n=poisson(np.arange(100),exp_events)\n",
    "    p=p_n[:n_query+1].sum()\n",
    "    if quiet:\n",
    "        return p\n",
    "    else:\n",
    "        print(f'{exp_events} goals per game.Probability of {n_query} or fewer goals in 1 game: {100*p:.2f}%.')\n",
    "    \n",
    "def p_greaterorequal(n_query,exp_events,quiet=True):\n",
    "    p = 1 - p_lessorequal(n_query,exp_events)\n",
    "    if quiet:\n",
    "        return p\n",
    "    else:\n",
    "        print(f'{exp_events} goals per game.Probability of more than {n_query} goals in 1 game: {100*p:.2f}%.')\n",
    "        \n"
   ]
  },
  {
   "cell_type": "code",
   "execution_count": 36,
   "metadata": {},
   "outputs": [
    {
     "name": "stdout",
     "output_type": "stream",
     "text": [
      "2.87 goals per game.Probability of 4 or fewer goals in 1 game: 83.66%.\n",
      "2.87 goals per game.Probability of more than 4 goals in 1 game: 16.34%.\n"
     ]
    }
   ],
   "source": [
    "#probability of scoring more or fewer goals than a particular no.\n",
    "p_lessorequal(4,2.87,False)\n",
    "p_greaterorequal(4,2.87,False)"
   ]
  },
  {
   "cell_type": "markdown",
   "metadata": {},
   "source": [
    "# If we switch on to tv at a  random time, then the average time we have to wait to see a goal"
   ]
  },
  {
   "cell_type": "code",
   "execution_count": 45,
   "metadata": {},
   "outputs": [
    {
     "data": {
      "text/plain": [
       "array([39, 19, 70, 15, 72, 35, 44, 85, 51,  5], dtype=int64)"
      ]
     },
     "execution_count": 45,
     "metadata": {},
     "output_type": "execute_result"
    }
   ],
   "source": [
    "events_per_min=(2.87/90)\n",
    "np.random.seed(42)\n",
    "events = np.random.choice([0,1],size=100000,\n",
    "                          replace=True,\n",
    "                          p=[1-events_per_min,events_per_min])\n",
    "success_times = np.where(events==1)[0]\n",
    "waiting_times = np.diff(success_times)\n",
    "waiting_times[:10]"
   ]
  },
  {
   "cell_type": "code",
   "execution_count": 63,
   "metadata": {},
   "outputs": [],
   "source": [
    "def plot_hist_waiting_time(x):\n",
    "    df = pd.DataFrame(x)\n",
    "    df.hist(bins=100)"
   ]
  },
  {
   "cell_type": "code",
   "execution_count": 65,
   "metadata": {},
   "outputs": [
    {
     "data": {
      "image/png": "[encoded data removed]",
      "text/plain": [
       "<Figure size 432x288 with 1 Axes>"
      ]
     },
     "metadata": {
      "needs_background": "light"
     },
     "output_type": "display_data"
    }
   ],
   "source": [
    "plot_hist_waiting_time(waiting_times)"
   ]
  },
  {
   "cell_type": "code",
   "execution_count": 67,
   "metadata": {},
   "outputs": [],
   "source": [
    "#Simulating avg time for 10000 matches to get the actual average time\n",
    "avg = []\n",
    "events_per_minute=(2.87/90)\n",
    "for i in range(10000):\n",
    "    avg.append(np.mean(np.diff(np.where(np.random.choice([0, 1], size = 100000, replace=True, \n",
    "                          p=[1-events_per_minute, events_per_minute]) == 1)[0])))"
   ]
  },
  {
   "cell_type": "code",
   "execution_count": 71,
   "metadata": {},
   "outputs": [
    {
     "name": "stdout",
     "output_type": "stream",
     "text": [
      "                  0\n",
      "count  10000.000000\n",
      "mean      31.367507\n",
      "std        0.544495\n",
      "min       29.479351\n",
      "25%       30.996199\n",
      "50%       31.359485\n",
      "75%       31.729481\n",
      "max       33.608608\n"
     ]
    },
    {
     "data": {
      "text/plain": [
       "array([[<matplotlib.axes._subplots.AxesSubplot object at 0x00000232FF32F850>]],\n",
       "      dtype=object)"
      ]
     },
     "execution_count": 71,
     "metadata": {},
     "output_type": "execute_result"
    },
    {
     "data": {
      "image/png": "[encoded data removed]",
      "text/plain": [
       "<Figure size 432x288 with 1 Axes>"
      ]
     },
     "metadata": {
      "needs_background": "light"
     },
     "output_type": "display_data"
    }
   ],
   "source": [
    "df= pd.DataFrame(avg)\n",
    "print(df.describe())\n",
    "df.hist(bins=100)\n"
   ]
  },
  {
   "cell_type": "markdown",
   "metadata": {},
   "source": [
    "# predicting scores by poisson"
   ]
  },
  {
   "cell_type": "code",
   "execution_count": 12,
   "metadata": {},
   "outputs": [
    {
     "data": {
      "text/plain": [
       "13"
      ]
     },
     "execution_count": 12,
     "metadata": {},
     "output_type": "execute_result"
    }
   ],
   "source": [
    "len(data[(data.home_team =='England') & (data.away_team =='France')])"
   ]
  },
  {
   "cell_type": "code",
   "execution_count": 13,
   "metadata": {},
   "outputs": [],
   "source": [
    "data['home_team'] = data['home_team'].apply(lambda x: (''.join(x.split())).lower())\n",
    "data['away_team'] = data['away_team'].apply(lambda x: (''.join(x.split())).lower())"
   ]
  },
  {
   "cell_type": "code",
   "execution_count": 37,
   "metadata": {},
   "outputs": [
    {
     "name": "stdout",
     "output_type": "stream",
     "text": [
      "2\n"
     ]
    }
   ],
   "source": [
    "import numpy as np\n",
    "from scipy import stats\n",
    "counts = np.random.poisson(2.87,10)\n",
    "print(int(stats.mode(counts)[0]))"
   ]
  },
  {
   "cell_type": "code",
   "execution_count": 88,
   "metadata": {},
   "outputs": [],
   "source": [
    "import pandas as pd\n",
    "import numpy as np\n",
    "from scipy import stats \n",
    "\n",
    "def PredictScore():\n",
    "    \n",
    "    home_team = input(\"Enter Home Team: \")\n",
    "    ht = (''.join(home_team.split())).lower()\n",
    "    away_team = input(\"Enter Away Team: \")\n",
    "    at = (''.join(away_team.split())).lower()\n",
    "    \n",
    "    if len(data[(data.home_team ==ht) & (data.away_team ==at)]) > 20:\n",
    "        \n",
    "        avg_home_score = data[(data.home_team ==ht) & (data.away_team ==at)].home_score.mean()\n",
    "        avg_away_score = data[(data.home_team ==ht) & (data.away_team ==at)].away_score.mean()\n",
    "        \n",
    "        home_goal = int(stats.mode(np.random.poisson(avg_home_score,100000))[0])                    \n",
    "        away_goal = int(stats.mode(np.random.poisson(avg_away_score,100000))[0])\n",
    "        \n",
    "    else:\n",
    "        avg_home_goal_conceded = data[(data.home_team ==ht)].away_score.mean()\n",
    "        avg_away_goal_scored   = data[(data.away_team ==at)].away_score.mean()\n",
    "        away_goal = int(stats.mode(np.random.poisson(1/2*(avg_home_goal_conceded+avg_away_goal_scored),100000))[0])\n",
    "        \n",
    "        avg_away_goal_conceded = data[(data.home_team ==at)].home_score.mean()\n",
    "        avg_home_goal_scored   = data[(data.away_team ==ht)].home_score.mean()\n",
    "        home_goal = int(stats.mode(np.random.poisson(1/2*(avg_away_goal_conceded+avg_home_goal_scored),100000))[0])\n",
    "    \n",
    "    avg_total_score = int(stats.mode(\n",
    "        np.random.poisson((data[(data.home_team ==ht) & (data.away_team ==at)].total_goals.mean()),100000))[0])\n",
    "    \n",
    "    print(f'Expected total goals are {avg_total_score}')\n",
    "    print(f'They have played {len(data[(data.home_team ==ht) & (data.away_team ==at)])} matches')\n",
    "    print(f'The scoreline is {home_team} {home_goal}:{away_goal} {away_team}')"
   ]
  },
  {
   "cell_type": "code",
   "execution_count": 89,
   "metadata": {},
   "outputs": [
    {
     "name": "stdout",
     "output_type": "stream",
     "text": [
      "Enter Home Team: Italy\n",
      "Enter Away Team: mexico\n",
      "Expected total goals are 3\n",
      "They have played 6 matches\n",
      "The scoreline is Italy 1:1 mexico\n"
     ]
    }
   ],
   "source": [
    "PredictScore()"
   ]
  },
  {
   "cell_type": "code",
   "execution_count": 91,
   "metadata": {},
   "outputs": [],
   "source": [
    "#Search in google: \"last match between {home_team vs {away_team}}\""
   ]
  },
  {
   "cell_type": "code",
   "execution_count": null,
   "metadata": {},
   "outputs": [],
   "source": []
  }
 ],
 "metadata": {
  "kernelspec": {
   "display_name": "Python 3",
   "language": "python",
   "name": "python3"
  },
  "language_info": {
   "codemirror_mode": {
    "name": "ipython",
    "version": 3
   },
   "file_extension": ".py",
   "mimetype": "text/x-python",
   "name": "python",
   "nbconvert_exporter": "python",
   "pygments_lexer": "ipython3",
   "version": "3.8.3"
  }
 },
 "nbformat": 4,
 "nbformat_minor": 4
}
